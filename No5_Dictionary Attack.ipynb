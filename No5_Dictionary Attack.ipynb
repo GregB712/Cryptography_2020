{
 "cells": [
  {
   "cell_type": "code",
   "execution_count": null,
   "metadata": {},
   "outputs": [],
   "source": [
    "# Import of library\n",
    "from zipfile import ZipFile"
   ]
  },
  {
   "cell_type": "code",
   "execution_count": null,
   "metadata": {},
   "outputs": [],
   "source": [
    "# Variable names\n",
    "zip_file = 'test_zip.zip'\n",
    "eng_dict = 'english.txt'\n",
    "check = 0 "
   ]
  },
  {
   "cell_type": "code",
   "execution_count": null,
   "metadata": {},
   "outputs": [],
   "source": [
    "# Move the words from txt file to a list\n",
    "with open(eng_dict) as ed:\n",
    "    content = ed.readlines()\n",
    "# you may also want to remove whitespace characters like `\\n` at the end of each line\n",
    "content = [x.strip() for x in content] "
   ]
  },
  {
   "cell_type": "code",
   "execution_count": null,
   "metadata": {
    "scrolled": true
   },
   "outputs": [],
   "source": [
    "# Brute Force until we find the right password\n",
    "i = 1\n",
    "for password in content:\n",
    "    print(i)\n",
    "    i = i + 1\n",
    "    try:\n",
    "        with ZipFile(zip_file) as zf:\n",
    "            zf.extractall(pwd=bytes(password,'utf-8'))\n",
    "        check = 1\n",
    "    except Exception:\n",
    "        check = 0\n",
    "        pass\n",
    "    if check ==1:\n",
    "        break;"
   ]
  }
 ],
 "metadata": {
  "kernelspec": {
   "display_name": "Python 3",
   "language": "python",
   "name": "python3"
  },
  "language_info": {
   "codemirror_mode": {
    "name": "ipython",
    "version": 3
   },
   "file_extension": ".py",
   "mimetype": "text/x-python",
   "name": "python",
   "nbconvert_exporter": "python",
   "pygments_lexer": "ipython3",
   "version": "3.7.1"
  }
 },
 "nbformat": 4,
 "nbformat_minor": 2
}
