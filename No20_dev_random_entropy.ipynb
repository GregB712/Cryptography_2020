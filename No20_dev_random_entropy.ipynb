{
 "cells": [
  {
   "cell_type": "code",
   "execution_count": 30,
   "metadata": {},
   "outputs": [
    {
     "name": "stdout",
     "output_type": "stream",
     "text": [
      "N = 23410700363277676407664929908689306255920692126432609442127695417226788628353651741176953368313175369397491149132393451524725586364048671470178648303825695037460863721092930079758472511852659560625072540262610306428696109373754387313680337935227724923061640885241174098043605886024351444677066006838336643283080737925287530159591662105875095036476850593350272265457612295922943782111952640519021496667116701183059433169937576840834993050126552842592560662496725276837502091821396768958243134787071444600925461421364117632228148462989658944758328595716699954127565935828331754035421850137665852892811019910558155896421\n",
      "\n",
      "e = 65537\n",
      "\n",
      "...GENERATING...\n",
      "\n"
     ]
    }
   ],
   "source": [
    "# No.20\n",
    "\n",
    "from Crypto.PublicKey import RSA\n",
    "\n",
    "# This is the OpenSSL public key we generated when the entropy was low\n",
    "\n",
    "key_encoded='''-----BEGIN PUBLIC KEY-----\n",
    "MIIBIjANBgkqhkiG9w0BAQEFAAOCAQ8AMIIBCgKCAQEAuXLO2mFz3c1fJs0kv53o\n",
    "0VbVCRYCZyhNNg92zljRWvUD66Nx2ifnPfZ8xrlOho1TWssHu6wZf/0wQPSZ+EgR\n",
    "RAGwYW5K1BkuenRxFmbqPkaZjN6wTYqELmQuP+F/RNkeD+87/jnhMm999CuJSz52\n",
    "PKZpuHcuXonTXByqt9oVtfPbfSplyXKb9UYt4xAZXYuCUgAPTNVJv1XJA1S9JE6l\n",
    "8vBrklSnZ48rd+7PH8YAeigRwTUu2Nm6kITF9uZUSMY6sPx+xcef6vHlvbii8wQO\n",
    "RkzsNdPUOWju4JOlm/uG8tVuJWP9W/9Rexii+Zy6ggk5aHVAqW4MJjJS55SVzXV2\n",
    "ZQIDAQAB\n",
    "-----END PUBLIC KEY-----'''\n",
    "\n",
    "pubkey = RSA.importKey(key_encoded)\n",
    "print(\"N = \" + str(pubkey.n))\n",
    "print(\"\\ne = \" + str(pubkey.e))\n",
    "\n",
    "# from cryptography.hazmat.backends import default_backend\n",
    "# from cryptography.hazmat.primitives import serialization\n",
    "\n",
    "# pubkey2 = serialization.load_pem_public_key(\n",
    "#     key_encoded.encode('ascii'),\n",
    "#     backend=default_backend()\n",
    "# )\n",
    "\n",
    "# print(pubkey2.public_numbers().n)\n",
    "# print(pubkey2.public_numbers().e)\n",
    "\n",
    "\n",
    "def compute_factors(n):          # Function to compute prime factors of a number. However it is O(n) which means it \n",
    "    factors=[];                  # can not be used for a big number like our N (2048 bits)\n",
    "    for i in range(1, n + 1):\n",
    "        if n % i == 0:\n",
    "            factors.append(i)\n",
    "\n",
    "    return factors\n",
    "print(\"\\n...GENERATING...\\n\")\n",
    "# print(compute_factors(pubkey2.public_numbers().n))"
   ]
  }
 ],
 "metadata": {
  "kernelspec": {
   "display_name": "Python 3",
   "language": "python",
   "name": "python3"
  },
  "language_info": {
   "codemirror_mode": {
    "name": "ipython",
    "version": 3
   },
   "file_extension": ".py",
   "mimetype": "text/x-python",
   "name": "python",
   "nbconvert_exporter": "python",
   "pygments_lexer": "ipython3",
   "version": "3.7.1"
  }
 },
 "nbformat": 4,
 "nbformat_minor": 2
}
