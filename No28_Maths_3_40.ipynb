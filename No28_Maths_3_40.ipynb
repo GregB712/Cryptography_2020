{
 "cells": [
  {
   "cell_type": "code",
   "execution_count": 3,
   "metadata": {},
   "outputs": [
    {
     "name": "stdout",
     "output_type": "stream",
     "text": [
      "φ(1134) = 566\n",
      "φ(2457) = 1636\n"
     ]
    }
   ],
   "source": [
    "# The 3 first functions had been already implemented in the exercise No10_Textbook_RSA\n",
    "\n",
    "def compute_factors(n):       # Function to compute prime factors of a number\n",
    "    factors=[];\n",
    "    for i in range(1, n + 1):\n",
    "        if n % i == 0:\n",
    "            factors.append(i)\n",
    "\n",
    "    return factors\n",
    "\n",
    "\n",
    "def find_p_q(N):        # Function to find p and q\n",
    "\n",
    "    factors=[]\n",
    "\n",
    "    factors = compute_factors(N)\n",
    "    flag = False\n",
    "\n",
    "    for i in range (1,len(factors)):     # Begin from 1 and not from 0 to avoid 1*N = N\n",
    "        for j in range (i,len(factors)):\n",
    "            if factors[j]*factors[i]==N:\n",
    "                p=factors[j]\n",
    "                q=factors[i]\n",
    "                flag=True\n",
    "        if flag==True:\n",
    "            break\n",
    "    return p, q\n",
    "\n",
    "\n",
    "def φ(N):          # Function to compute (p-1)*(q-1)\n",
    "    \n",
    "    p, q = find_p_q(N)\n",
    "    return (p-1)*(q-1)\n",
    "\n",
    "\n",
    "print(\"φ(1134) = \" + str(φ(1134)))\n",
    "print(\"φ(2457) = \" + str(φ(2457)))\n"
   ]
  }
 ],
 "metadata": {
  "kernelspec": {
   "display_name": "Python 3",
   "language": "python",
   "name": "python3"
  },
  "language_info": {
   "codemirror_mode": {
    "name": "ipython",
    "version": 3
   },
   "file_extension": ".py",
   "mimetype": "text/x-python",
   "name": "python",
   "nbconvert_exporter": "python",
   "pygments_lexer": "ipython3",
   "version": "3.7.1"
  }
 },
 "nbformat": 4,
 "nbformat_minor": 2
}
