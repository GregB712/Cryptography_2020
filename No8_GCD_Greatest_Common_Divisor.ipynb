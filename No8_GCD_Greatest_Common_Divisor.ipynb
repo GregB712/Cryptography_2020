{
 "cells": [
  {
   "cell_type": "code",
   "execution_count": 4,
   "metadata": {},
   "outputs": [
    {
     "name": "stdout",
     "output_type": "stream",
     "text": [
      "2^1234567 mod 12345\n",
      "\n",
      "Reminder: 8648\n",
      "___________________\n",
      "\n",
      "130^7654321 mod 567\n",
      "\n",
      "Reminder: 319\n"
     ]
    }
   ],
   "source": [
    "def fast(a,g,N):\n",
    "    g = bin(g)         # Turn to binary\n",
    "    g = g[2:]          # Remove the 0b at the beginning\n",
    "\n",
    "    d = 1\n",
    "    x = a\n",
    "    for i in range (len(g)-1,-1,-1):\n",
    "        if g[i]==str(1):\n",
    "            d = (d * x) % N\n",
    "        x = (x ** 2) % N\n",
    "    return d\n",
    "    \n",
    "print(\"2^1234567 mod 12345\")\n",
    "print(\"\\nReminder: \" + str(fast(2,1234567,12345)))\n",
    "print(\"___________________\")\n",
    "print(\"\\n130^7654321 mod 567\")\n",
    "print(\"\\nReminder: \" + str(fast(130,7654321,567)))"
   ]
  }
 ],
 "metadata": {
  "kernelspec": {
   "display_name": "Python 3",
   "language": "python",
   "name": "python3"
  },
  "language_info": {
   "codemirror_mode": {
    "name": "ipython",
    "version": 3
   },
   "file_extension": ".py",
   "mimetype": "text/x-python",
   "name": "python",
   "nbconvert_exporter": "python",
   "pygments_lexer": "ipython3",
   "version": "3.7.1"
  }
 },
 "nbformat": 4,
 "nbformat_minor": 2
}
