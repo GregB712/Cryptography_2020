{
 "cells": [
  {
   "cell_type": "code",
   "execution_count": 67,
   "metadata": {},
   "outputs": [
    {
     "name": "stdout",
     "output_type": "stream",
     "text": [
      "Given :\n",
      "\n",
      "p = 5 q = 11 c = 14\n",
      "\n",
      "Possible solutions :\n",
      "\n",
      "27 28 38 17\n",
      "\n",
      "Accepted solution (m<20) :\n",
      "\n",
      "m = 17\n"
     ]
    }
   ],
   "source": [
    "# How Rabin_TDF decryption works: (ref: https://en.wikipedia.org/wiki/Rabin_cryptosystem)\n",
    "# 1) Compute mp an mq. (formula on link)\n",
    "# 2) Use the Extended Euclidean Algorithm to compute Bezout Numbers of p and q.\n",
    "# 3) Compute the four plaintext candidates, and accept the one that corresponds to the exercises needs (m<20).\n",
    "\n",
    "# Given:\n",
    "p=5      # secret key\n",
    "q=11     # secret key\n",
    "\n",
    "N=p*q    # public key\n",
    "\n",
    "def encrypt_Rabin(N,m):         # We dont use it, just to show we know how to encrypt if we have the message x.\n",
    "    return (m**2)%N\n",
    "\n",
    "# We know that from the encryption of the message, the result is:\n",
    "c=14\n",
    "\n",
    "def decrypt_Rabin(p,q,c):\n",
    "    mp=(c**(1/4*(p+1)))%p\n",
    "    mq=(c**(1/4*(q+1)))%q\n",
    "    return int(mp) , int(mq)\n",
    "\n",
    "mp , mq = decrypt_Rabin(p,q,c)     # Compute mp,mq\n",
    "\n",
    "\n",
    "# Extended Euclidean Algorithm (ref: https://www.geeksforgeeks.org/euclidean-algorithms-basic-and-extended/)\n",
    "\n",
    "def gcdExtended(p,q):  \n",
    "  \n",
    "    # Base Case  \n",
    "    if p == 0 :   \n",
    "        return q, 0, 1\n",
    "             \n",
    "    gcd, x1, y1 = gcdExtended(q%p, p)  \n",
    "     \n",
    "    # Update x and y using results of recursive  \n",
    "    # call  \n",
    "    x = y1 - (q//p) * x1  \n",
    "    y = x1  \n",
    "     \n",
    "    return gcd, x, y \n",
    "\n",
    "\n",
    "g, yp, yq = gcdExtended(p, q)      # Compute yp, yq\n",
    "\n",
    "\n",
    "# From Chinese Theorem types, we compute the 4 plaintext candidates\n",
    "\n",
    "m1=(yp*p*mq + yq*q*mp)%N\n",
    "m2=N-m1\n",
    "m3=(yp*p*mq - yq*q*mp)%N\n",
    "m4=N-m3\n",
    "\n",
    "print(\"Given :\\n\")\n",
    "print(\"p = \" + str(p) + \" q = \" + str(q) + \" c = \" + str(c))\n",
    "print(\"\\nPossible solutions :\\n\")\n",
    "print(m1,m2,m3,m4)\n",
    "\n",
    "# We know that out message is <20, so:\n",
    "print(\"\\nAccepted solution (m<20) :\\n\")\n",
    "print(\"m = \" + str(m4))"
   ]
  }
 ],
 "metadata": {
  "kernelspec": {
   "display_name": "Python 3",
   "language": "python",
   "name": "python3"
  },
  "language_info": {
   "codemirror_mode": {
    "name": "ipython",
    "version": 3
   },
   "file_extension": ".py",
   "mimetype": "text/x-python",
   "name": "python",
   "nbconvert_exporter": "python",
   "pygments_lexer": "ipython3",
   "version": "3.7.1"
  }
 },
 "nbformat": 4,
 "nbformat_minor": 2
}
