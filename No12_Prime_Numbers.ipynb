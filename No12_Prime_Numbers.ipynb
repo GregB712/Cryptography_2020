{
 "cells": [
  {
   "cell_type": "code",
   "execution_count": 82,
   "metadata": {},
   "outputs": [],
   "source": [
    "# Fermat for a 2048-bit number"
   ]
  },
  {
   "cell_type": "code",
   "execution_count": 87,
   "metadata": {},
   "outputs": [
    {
     "name": "stdout",
     "output_type": "stream",
     "text": [
      "3522428392710595880000513588326774191058617379060448575603468371164015124933771764507383839422306169002886806051407015704611343267283963472062805151418310879194121940771514956327069390945159896835345969613458410558796221857897538298216368843\n"
     ]
    }
   ],
   "source": [
    "# Miller-Rabin for an 800-bit number\n",
    "\n",
    "\n",
    "# To test if my program is correct, i used this site: https://kevincobain2000.github.io/miller-rabin-primality-test-online/\n",
    "# (ref: https://langui.sh/2009/03/07/generating-very-large-primes/)\n",
    "\n",
    "import random\n",
    "import math\n",
    "import sys\n",
    "\n",
    "# Miller Rabin Primality Test\n",
    "\n",
    "def millerRabin(n):\n",
    "    s = n-1\n",
    "    t = 0\n",
    "    while (s&1) == 0:\n",
    "        s = s//2\n",
    "        t +=1\n",
    "    k = 0\n",
    "    while k<128:\n",
    "        a = random.randrange(2,n-1)\n",
    "        #a^s is computationally infeasible.  we need a more intelligent approach\n",
    "        #v = (a**s)%n\n",
    "        #python's core math module can do modular exponentiation\n",
    "        v = pow(a,s,n) #where values are (num,exp,mod)\n",
    "        if v != 1:\n",
    "            i=0\n",
    "            while v != (n-1):\n",
    "                if i == t-1:\n",
    "                    return False\n",
    "                else:\n",
    "                    i = i+1\n",
    "                    v = (v**2)%n\n",
    "        k+=2\n",
    "    return True\n",
    "\n",
    "def isPrime(n):\n",
    "    if (n >= 3):\n",
    "        if (n&1 != 0):\n",
    "            return millerRabin(n)\n",
    "    return False\n",
    "\n",
    "def generateLargePrime(k):\n",
    "    #k is the desired bit length\n",
    "    r=int(100*(math.log(k,2)+1)) #number of attempts max\n",
    "    num = r\n",
    "    while r>0:\n",
    "        #randrange is mersenne twister and is completely deterministic\n",
    "        #unusable for serious crypto purposes\n",
    "        n = random.randrange(2**(k-1),2**(k))\n",
    "        r-=1\n",
    "        if isPrime(n) == True:\n",
    "            return n\n",
    "    return \"Failure after \"+ str(num) + \" tries.\"\n",
    "\n",
    "print (generateLargePrime(800))"
   ]
  },
  {
   "cell_type": "code",
   "execution_count": 88,
   "metadata": {},
   "outputs": [],
   "source": [
    "# A safe prime number of 2048 bits"
   ]
  }
 ],
 "metadata": {
  "kernelspec": {
   "display_name": "Python 3",
   "language": "python",
   "name": "python3"
  },
  "language_info": {
   "codemirror_mode": {
    "name": "ipython",
    "version": 3
   },
   "file_extension": ".py",
   "mimetype": "text/x-python",
   "name": "python",
   "nbconvert_exporter": "python",
   "pygments_lexer": "ipython3",
   "version": "3.7.1"
  }
 },
 "nbformat": 4,
 "nbformat_minor": 2
}
