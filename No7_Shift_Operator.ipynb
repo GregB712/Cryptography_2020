{
 "cells": [
  {
   "cell_type": "markdown",
   "metadata": {},
   "source": [
    "# Topic 7th"
   ]
  },
  {
   "cell_type": "markdown",
   "metadata": {},
   "source": [
    "We have c = m (+) (m<<6) (+) (m<<10).\n",
    "The following applies for XOR:\n",
    "- if m is a message of n-bits and k a key of l-bits and c = m (+) k,\n",
    "    then m = c (+) k.\n",
    "    \n",
    "Moreover, in our original encryption function, we can rotate both parts equally.\n",
    "- e.g. (c<<2) = (m (+) (m<<6) (+) (m<<10))<<2 <=> (c<<2) = (m<<2) (+) (m<<8) (+) (m<<12)\n",
    "\n",
    "*Note: x<<i will be symbolized as xi and XOR as simple +*\n",
    "\n",
    "So, we have:\n",
    "- c0 = m0 + m6 + m10 (1)\n",
    "- c2 = m2 + m8 + m12 (4) => m8 = m2 + m12 + c2\n",
    "- c4 = m4 + m10 + m14 (2) => m10 = m4 + m14 + c4\n",
    "- c6 = m6 + m12 + m0 (5)\n",
    "- c8 = m8 + m14 + m2\n",
    "- c10 = m10 + m0 + m4\n",
    "- c12 = m12 + m2 + m6\n",
    "- c14 = m14 + m4 + m8 (3) => m14 + m4 = m8 + c14\n",
    "\n",
    "Starting with (1):\n",
    "c0 = m0 + m6 + m10 => c0 = m0 + m6 + m4 + m14 + c4 => c0 + c4 = m0 + m6 + m8 + c14 =>\n",
    "\n",
    "c0 + c4 + c14 = m0 + m6 + m2 + m12 + c2 => c0 + c4 + c14 + c2 = m2 + c6 =>\n",
    "\n",
    "c0 + c4 + c14 + c2 + c6 = m2\n",
    "\n",
    "We rotate both parts by 2 position to the right:\n",
    "m0 = c14 + c2 + c12 + c0 + c4\n",
    "\n",
    "and so, finally we have: m0 = c0 + c2 + c4 + c12 + c14"
   ]
  },
  {
   "cell_type": "code",
   "execution_count": 1,
   "metadata": {},
   "outputs": [],
   "source": [
    "import random"
   ]
  },
  {
   "cell_type": "code",
   "execution_count": 2,
   "metadata": {},
   "outputs": [],
   "source": [
    "# Create a random message of \"n\" bits.\n",
    "def create_m(n):\n",
    "    message = []\n",
    "    for i in range(n):\n",
    "        bit = bool(random.getrandbits(1))\n",
    "        if bit == True:\n",
    "            message.append(1)\n",
    "        else:\n",
    "            message.append(0)\n",
    "    \n",
    "    return message #returns a list of bits\n",
    "\n",
    "# Left rotation of a message by n.\n",
    "def rotate(message, n):\n",
    "    return message[n:] + message [:n] #returns a list of bits\n",
    "\n",
    "# XOR function between a message and a key.\n",
    "def xor(message, key):\n",
    "    c = [0 for i in range(len(message))]\n",
    "    for i in range(len(message)):\n",
    "        temp = 0\n",
    "        if (message[i] != key[i]):\n",
    "            c[i] = 1\n",
    "    \n",
    "    return c #returns a list of bits"
   ]
  },
  {
   "cell_type": "code",
   "execution_count": 3,
   "metadata": {},
   "outputs": [],
   "source": [
    "# Message Encryption\n",
    "m0 = create_m(16) # original message\n",
    "m6 = rotate(m0, 6)\n",
    "m10 = rotate(m0, 10)\n",
    "\n",
    "c0 = xor(m0, xor(m6,m10)) # c = m (+) (m<<6) (+) (m<<10)"
   ]
  },
  {
   "cell_type": "code",
   "execution_count": 4,
   "metadata": {},
   "outputs": [
    {
     "name": "stdout",
     "output_type": "stream",
     "text": [
      "Original Message: \n"
     ]
    },
    {
     "data": {
      "text/plain": [
       "[0, 0, 0, 0, 1, 0, 0, 1, 0, 0, 1, 0, 1, 0, 1, 1]"
      ]
     },
     "metadata": {},
     "output_type": "display_data"
    },
    {
     "name": "stdout",
     "output_type": "stream",
     "text": [
      "Encrypted Message: \n"
     ]
    },
    {
     "data": {
      "text/plain": [
       "[1, 1, 1, 0, 1, 1, 1, 1, 1, 1, 0, 0, 1, 1, 0, 1]"
      ]
     },
     "metadata": {},
     "output_type": "display_data"
    }
   ],
   "source": [
    "print(\"Original Message: \")\n",
    "display(m0)\n",
    "\n",
    "print(\"Encrypted Message: \")\n",
    "display(c0)"
   ]
  },
  {
   "cell_type": "code",
   "execution_count": 5,
   "metadata": {},
   "outputs": [],
   "source": [
    "# Message Decryption\n",
    "c2 = rotate(c0, 2)\n",
    "c4 = rotate(c0, 4)\n",
    "c12 = rotate(c0, 12)\n",
    "c14 = rotate(c0, 14)\n",
    "decr = xor(c0, xor(c2, xor(c4, xor(c12,c14)))) # d = c (+) (c<<2) (+) (c<<4) (+) (c<<12) (+) (c<<14)"
   ]
  },
  {
   "cell_type": "code",
   "execution_count": 6,
   "metadata": {},
   "outputs": [
    {
     "name": "stdout",
     "output_type": "stream",
     "text": [
      "Decrypted Message: \n"
     ]
    },
    {
     "data": {
      "text/plain": [
       "[0, 0, 0, 0, 1, 0, 0, 1, 0, 0, 1, 0, 1, 0, 1, 1]"
      ]
     },
     "metadata": {},
     "output_type": "display_data"
    },
    {
     "name": "stdout",
     "output_type": "stream",
     "text": [
      "Original Message: \n"
     ]
    },
    {
     "data": {
      "text/plain": [
       "[0, 0, 0, 0, 1, 0, 0, 1, 0, 0, 1, 0, 1, 0, 1, 1]"
      ]
     },
     "metadata": {},
     "output_type": "display_data"
    }
   ],
   "source": [
    "print(\"Decrypted Message: \")\n",
    "display(decr)\n",
    "\n",
    "print(\"Original Message: \")\n",
    "display(m0)"
   ]
  },
  {
   "cell_type": "code",
   "execution_count": null,
   "metadata": {},
   "outputs": [],
   "source": []
  }
 ],
 "metadata": {
  "kernelspec": {
   "display_name": "Python 3",
   "language": "python",
   "name": "python3"
  },
  "language_info": {
   "codemirror_mode": {
    "name": "ipython",
    "version": 3
   },
   "file_extension": ".py",
   "mimetype": "text/x-python",
   "name": "python",
   "nbconvert_exporter": "python",
   "pygments_lexer": "ipython3",
   "version": "3.7.1"
  }
 },
 "nbformat": 4,
 "nbformat_minor": 2
}
