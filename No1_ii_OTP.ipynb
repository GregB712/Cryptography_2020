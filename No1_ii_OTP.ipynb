{
 "cells": [
  {
   "cell_type": "code",
   "execution_count": 1,
   "metadata": {},
   "outputs": [],
   "source": [
    "#ΘΕΜΑ 1.ii\n",
    "#Υλοποίηση OTP με τυχαίο κλειδί, και μήνυμα \"WEALLMAKEMISTAKESANDWEALLPAYAPRICE\"\n",
    "\n",
    "#Δεν είμαι σίγουρος αν ήθελε κωδικοποίηση (0 - 31) που έκανα (modulo), Ή κωδικοποίηση (00000 - 11111) με (bitwise xor)."
   ]
  },
  {
   "cell_type": "code",
   "execution_count": 153,
   "metadata": {},
   "outputs": [],
   "source": [
    "#Αλγόριθμος για 5bit μετατροπή σε δυαδική μορφή από ΠΙΝΑΚΑ 1.\n",
    "       \n",
    "def ConvertionPINAKAS1_5bit(plaintext):\n",
    "    \n",
    "    PINAKAS1=['A','B','C','D','E','F','G','H','I','J','K','L','M','N','O','P','Q','R','S','T','U','V','W','X','Y','Z','.','!','?','(',')','-']\n",
    "    PINAKAS1BINARY=[\"00000\",\"00001\",\"00010\",\"00011\",\"00100\",\"00101\",\"00110\",\"00111\",\"01000\",\"01001\",\"01010\",\"01011\",\"01100\",\"01101\",\"01110\",\"01111\",\"10000\",\"10001\",\"10010\",\"10011\",\"10100\",\"10101\",\"10110\",\"10111\",\"11000\",\"11001\",\"11010\",\"11011\",\"11100\",\"11101\",\"11110\",\"11111\"]\n",
    "\n",
    "        \n",
    "    #new_plaintext = \"\"                                                  #Uncomment if we need to return string\n",
    "    new_plaintext_list =[]                                               #Comment if we need to return string\n",
    "    for letter in plaintext:\n",
    "        for i in range(0,32):\n",
    "            if letter==PINAKAS1[i]:\n",
    "                #new_plaintext = new_plaintext+PINAKAS1BINARY[i]         #Uncomment if we need to return string\n",
    "                new_plaintext_list.append(PINAKAS1BINARY[i])             #Comment if we need to return string\n",
    "    return new_plaintext_list                                            #Comment if we need to return string\n",
    "    #return new_plaintext                                                #Uncomment if we need to return string"
   ]
  },
  {
   "cell_type": "code",
   "execution_count": 154,
   "metadata": {},
   "outputs": [],
   "source": [
    "#Αλγόριθμος για μετατροπή σε δυαδική μορφή από ΠΙΝΑΚΑ 1.\n",
    "       \n",
    "def ConvertionPINAKAS1(plaintext):\n",
    "    \n",
    "    PINAKAS1C=['A','B','C','D','E','F','G','H','I','J','K','L','M','N','O','P','Q','R','S','T','U','V','W','X','Y','Z','.','!','?','(',')','-']\n",
    "    PINAKAS1=[0,1,2,3,4,5,6,7,8,9,10,11,12,13,14,15,16,17,18,19,20,21,22,23,24,25,26,27,28,29,30,31]\n",
    "\n",
    "        \n",
    "    new_plaintext_list =[]                                              \n",
    "    for letter in plaintext:\n",
    "        for i in range(0,32):\n",
    "            if letter==PINAKAS1C[i]:\n",
    "                new_plaintext_list.append(PINAKAS1[i])\n",
    "    return new_plaintext_list                          "
   ]
  },
  {
   "cell_type": "code",
   "execution_count": 157,
   "metadata": {},
   "outputs": [],
   "source": [
    "#Αλγόριθμος για αντίστροφη μετατροπή από (0 - 31) με τον ΠΙΝΑΚΑ 1.\n",
    "       \n",
    "def ConvertionPINAKAS1_opp(plaintext):\n",
    "    \n",
    "    PINAKAS1C=['A','B','C','D','E','F','G','H','I','J','K','L','M','N','O','P','Q','R','S','T','U','V','W','X','Y','Z','.','!','?','(',')','-']\n",
    "    PINAKAS1=[0,1,2,3,4,5,6,7,8,9,10,11,12,13,14,15,16,17,18,19,20,21,22,23,24,25,26,27,28,29,30,31]\n",
    "\n",
    "        \n",
    "    new_plaintext_list =[]                                              \n",
    "    for letter in plaintext:\n",
    "        for i in range(0,32):\n",
    "            if letter==PINAKAS1[i]:\n",
    "                \n",
    "                new_plaintext_list.append(PINAKAS1C[i])                  \n",
    "    return new_plaintext_list                                       "
   ]
  },
  {
   "cell_type": "code",
   "execution_count": 158,
   "metadata": {},
   "outputs": [],
   "source": [
    "#Αλγόριθμος κρυπτογράφησης OTP με χρήση modulo addition\n",
    "\n",
    "def OTP_encrypt(key,message):\n",
    "    encrypted_msg = []\n",
    "    mlen=len(message)\n",
    "    for i in range(0,mlen):\n",
    "        encrypted_msg.append((key[i]+message[i])%32)\n",
    "    return encrypted_msg     "
   ]
  },
  {
   "cell_type": "code",
   "execution_count": 159,
   "metadata": {},
   "outputs": [],
   "source": [
    "#Αλγόριθμος αποκρυπτογράφησης OTP με χρήση modulo subtraction\n",
    "\n",
    "def OTP_decrypt(key,encrypted_msg):\n",
    "    decrypted_msg = []\n",
    "    mlen=len(encrypted_msg)\n",
    "    for i in range(0,mlen):\n",
    "        decrypted_msg.append((encrypted_msg[i]-key[i])%32)\n",
    "    return decrypted_msg "
   ]
  },
  {
   "cell_type": "code",
   "execution_count": 162,
   "metadata": {},
   "outputs": [
    {
     "name": "stdout",
     "output_type": "stream",
     "text": [
      "The encrypted message is:\n",
      "\n",
      "ED.BYD?)Q!.)HH!FF.R.IS.S.SH!GMD-)C\n",
      "\n",
      "The decrypted message is:\n",
      "\n",
      "WEALLMAKEMISTAKESANDWEALLPAYAPRICE"
     ]
    }
   ],
   "source": [
    "import secrets  \n",
    "\n",
    "message = \"WEALLMAKEMISTAKESANDWEALLPAYAPRICE\"\n",
    "message = ConvertionPINAKAS1(message)    #Μετατροπή με τον Πίνακα1 (0 - 31)\n",
    "\n",
    "key = []\n",
    "for i in message:                        # Δημιουργία τυχαίου κλειδιού μέσω της βιβλιοθήκης secrets \n",
    "    key.append(secrets.randbelow(32))    # που παράγει ισχυρά τυχαίους αριθμούς.\n",
    "\n",
    "    \n",
    "#Πραγματοποιούμε κωδικοποίηση OTP\n",
    "\n",
    "encrypted_msg = OTP_encrypt(key,message)\n",
    "\n",
    "#Πραγματοποιούμε αποκωδικοποίηση OTP\n",
    "\n",
    "decrypted_msg = OTP_decrypt(key,encrypted_msg)\n",
    "\n",
    "#Ξανά μετατροπή από νούμερα σε χαρακτήρες και εκτύπωση αποτελεσμάτων\n",
    "\n",
    "encrypted_msg = ConvertionPINAKAS1_opp(encrypted_msg)     \n",
    "decrypted_msg = ConvertionPINAKAS1_opp(decrypted_msg)   \n",
    "    \n",
    "print(\"The encrypted message is:\\n\")    \n",
    "for c in encrypted_msg:\n",
    "    print(c, end=\"\")\n",
    "\n",
    "print(\"\\n\\nThe decrypted message is:\\n\")        \n",
    "for c in decrypted_msg:\n",
    "    print(c, end=\"\")"
   ]
  },
  {
   "cell_type": "code",
   "execution_count": null,
   "metadata": {},
   "outputs": [],
   "source": []
  }
 ],
 "metadata": {
  "kernelspec": {
   "display_name": "Python 3",
   "language": "python",
   "name": "python3"
  },
  "language_info": {
   "codemirror_mode": {
    "name": "ipython",
    "version": 3
   },
   "file_extension": ".py",
   "mimetype": "text/x-python",
   "name": "python",
   "nbconvert_exporter": "python",
   "pygments_lexer": "ipython3",
   "version": "3.7.1"
  }
 },
 "nbformat": 4,
 "nbformat_minor": 2
}
