{
 "cells": [
  {
   "cell_type": "code",
   "execution_count": 54,
   "metadata": {},
   "outputs": [
    {
     "name": "stdout",
     "output_type": "stream",
     "text": [
      "\n",
      "Total number of primes: 409 out of 1000\n"
     ]
    }
   ],
   "source": [
    "import random\n",
    "\n",
    "\n",
    "# Function to compute large powers a^g modulo N\n",
    "\n",
    "def fast(a,g,N):\n",
    "    g = bin(g)         # Turn to binary\n",
    "    g = g[2:]          # Remove the 0b at the beginning\n",
    "\n",
    "    d = 1\n",
    "    x = a\n",
    "    for i in range (len(g)-1,-1,-1):\n",
    "        if g[i]==str(1):\n",
    "            d = (d * x) % N\n",
    "        x = (x ** 2) % N\n",
    "    return d\n",
    "\n",
    "\n",
    "# Miller Rabin Primality Test\n",
    "\n",
    "def millerRabin(n):\n",
    "    s = n-1\n",
    "    t = 0\n",
    "    while (s&1) == 0:\n",
    "        s = s//2\n",
    "        t +=1\n",
    "    k = 0\n",
    "    while k<50:\n",
    "        a = random.randrange(2,n-1)\n",
    "        #a^s is computationally infeasible.  we need a more intelligent approach\n",
    "        #v = (a**s)%n\n",
    "        #python's core math module can do modular exponentiation\n",
    "        v = fast(a,s,n) #where values are (num,exp,mod)\n",
    "        if v != 1:\n",
    "            i=0\n",
    "            while v != (n-1):\n",
    "                if i == t-1:\n",
    "                    return False\n",
    "                else:\n",
    "                    i = i+1\n",
    "                    v = (v**2)%n\n",
    "        k+=2\n",
    "    return True\n",
    "\n",
    "\n",
    "def isMRPrime(n):\n",
    "    if (n >= 3):\n",
    "        if (n&1 != 0):\n",
    "            if (millerRabin(n)==True):\n",
    "                return True\n",
    "    return False\n",
    "\n",
    "def PrimeGeneratingPol(tries,numOfPrimes):\n",
    "    for i in range (tries):\n",
    "        x = random.randrange(1,10**5)\n",
    "        y = abs(x**2 + x - 1354363)\n",
    "        if isMRPrime(y) == True:\n",
    "            numOfPrimes+=1\n",
    "        \n",
    "    print(\"\\nTotal number of primes: \" + str(numOfPrimes) + \" out of \" + str(tries))\n",
    "    \n",
    "    \n",
    "numOfPrimes=0\n",
    "tries=1000\n",
    "PrimeGeneratingPol(tries,numOfPrimes)\n",
    "\n"
   ]
  },
  {
   "cell_type": "code",
   "execution_count": 44,
   "metadata": {},
   "outputs": [],
   "source": [
    "# a) We can see that a big portion of the total numbers generated from f(x) = x^2 + x - 1354363, about 2/5 of the total, \n",
    "# are primes"
   ]
  },
  {
   "cell_type": "code",
   "execution_count": 36,
   "metadata": {},
   "outputs": [],
   "source": [
    "# b) A lucky number of Euler is a number p such that the prime-generating polynomial:\n",
    "#        n^2 - n + p \n",
    "# is prime for n=1, 2, ..., p-1.\n",
    "\n",
    "# Specifically, the lucky numbers of Euler (excluding the trivial case p=3) are those numbers p such that the \n",
    "# imaginary quadratic field Q(sqrt(1-4p)) has class number 1.\n",
    "# (Rabinowitz 1913, Le Lionnais 1983, Conway and Guy 1996, Ribenboim 2000).\n",
    "\n",
    "# As proved by Heegner (1952) (although his proof was not accepted as complete at the time) and subsequently established by \n",
    "# Stark (1967), there are only nine numbers -d such that h(-d)=1 (the Heegner numbers -2, -3, -7, -11, -19, -43, -67, and -163), \n",
    "# and of these, only 7, 11, 19, 43, 67, and 163 are of the required form.\n",
    "\n",
    "# Therefore, the only lucky numbers of Euler are 2, 3, 5, 11, 17, and 41 (Le Lionnais 1983, OEIS A014556), and \n",
    "# ***there does not exist a better prime-generating polynomial of Euler's form.***\n",
    "\n",
    "\n",
    "# REFERENCE: https://mathworld.wolfram.com/LuckyNumberofEuler.html"
   ]
  }
 ],
 "metadata": {
  "kernelspec": {
   "display_name": "Python 3",
   "language": "python",
   "name": "python3"
  },
  "language_info": {
   "codemirror_mode": {
    "name": "ipython",
    "version": 3
   },
   "file_extension": ".py",
   "mimetype": "text/x-python",
   "name": "python",
   "nbconvert_exporter": "python",
   "pygments_lexer": "ipython3",
   "version": "3.7.1"
  }
 },
 "nbformat": 4,
 "nbformat_minor": 2
}
