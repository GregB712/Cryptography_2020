{
 "cells": [
  {
   "cell_type": "code",
   "execution_count": 104,
   "metadata": {},
   "outputs": [],
   "source": [
    "#ΘΕΜΑ 1.i\n",
    "#Υλοποίηση RC4, με κλειδί \"HOUSE\", μήνυμα \"WEALLMAKEMISTAKESANDWEALLPAYAPRICE\", και να αποκρυπτογραφεί επίσης σωστά."
   ]
  },
  {
   "cell_type": "code",
   "execution_count": 105,
   "metadata": {},
   "outputs": [],
   "source": [
    "#Αλγόριθμος για να βρω την μετάθεση S.\n",
    "\n",
    "def find_S(seed):\n",
    "    seedlen = len(seed)\n",
    "    S = []\n",
    "    for i in range (0,256):\n",
    "        S.append(i)\n",
    "    j=0\n",
    "\n",
    "    for i in range (0,256):\n",
    "        j = (j + S[i] + seed[i % seedlen]) % 256\n",
    "        temp = S[j]\n",
    "        S[j] = S[i]\n",
    "        S[i] = temp\n",
    "        \n",
    "    return S"
   ]
  },
  {
   "cell_type": "code",
   "execution_count": 106,
   "metadata": {},
   "outputs": [],
   "source": [
    "#Αλγόριθμος για να βρω την Κλειδοροή του RC4\n",
    "\n",
    "def find_key(S, plaintext):\n",
    "    Key=[]\n",
    "    i=0\n",
    "    j=0\n",
    "    plen = len(plaintext)   #Μήκος κλειδιού = Μήκος μηνύματος\n",
    "    \n",
    "    while plen>0:\n",
    "        i = (i+1)%256\n",
    "        j = (j+S[i])%256\n",
    "        temp = S[j]\n",
    "        S[j] = S[i]\n",
    "        S[i] = temp\n",
    "        k = S[(S[i] + S[j])%256]\n",
    "        Key.append(k)\n",
    "        plen = plen-1\n",
    "        \n",
    "    return Key"
   ]
  },
  {
   "cell_type": "code",
   "execution_count": 107,
   "metadata": {},
   "outputs": [],
   "source": [
    "#Αλγόριθμος για κρυπτογράφηση με χρήση του τελεστή xor\n",
    "\n",
    "def RC4_encryption(seed, plaintext):\n",
    "    \n",
    "    S = find_S(seed)                    #Βρίσκω την μετάθεση S\n",
    "    \n",
    "    Key = find_key(S, plaintext)        #Βρίσκω την κλειδοροή του RC4\n",
    "    \n",
    "    encrypted_msg = []                  #Πραγματοποιώ πράξη xor μεταξύ στοιχείων της κλειδοροής και του μηνύματος  \n",
    "    plen=len(plaintext)\n",
    "    for i in range (0,plen):\n",
    "        encrypted_msg.append(Key[i]^plaintext[i])    #Τελεστής XOR = ^\n",
    "    \n",
    "    return encrypted_msg\n",
    "    "
   ]
  },
  {
   "cell_type": "code",
   "execution_count": 108,
   "metadata": {},
   "outputs": [],
   "source": [
    "#Αλγόριθμος για αποκρυπτογράφηση με χρήση του τελεστή xor (συμμετρική διαδικασία)\n",
    "\n",
    "def RC4_decryption(seed, encrypted_msg):\n",
    "    \n",
    "    S = find_S(seed)                    #Βρίσκω την μετάθεση S\n",
    "    \n",
    "    Key = find_key(S, encrypted_msg)    #Βρίσκω την κλειδοροή του RC4\n",
    "    \n",
    "    decrypted_msg = []                  #Πραγματοποιώ πράξη xor μεταξύ στοιχείων της κλειδοροής και του μηνύματος  \n",
    "    msglen=len(encrypted_msg)\n",
    "    for i in range (0,msglen):\n",
    "        decrypted_msg.append(Key[i]^encrypted_msg[i])    #Τελεστής XOR = ^\n",
    "    \n",
    "    return decrypted_msg"
   ]
  },
  {
   "cell_type": "code",
   "execution_count": 109,
   "metadata": {},
   "outputs": [
    {
     "name": "stdout",
     "output_type": "stream",
     "text": [
      "The encrypted message is:\n",
      "\n",
      "0FD1B47FF36CD9022C1A6104D00CED2E42D0D17D0CF2FD300784C20C025299621F61\n",
      "\n",
      "The decrypted message is:\n",
      "\n",
      "WEALLMAKEMISTAKESANDWEALLPAYAPRICE\n"
     ]
    }
   ],
   "source": [
    "def chars2unicode(s):\n",
    "    unicode = [ord(c) for c in s]\n",
    "    return unicode\n",
    "\n",
    "def unicode2chars(s):\n",
    "    chars = [chr(c) for c in s]\n",
    "    word = \"\"\n",
    "    for i in chars:\n",
    "        word+=i\n",
    "    return word\n",
    "\n",
    "#Αρχικά, χρησιμοποιούμε την συνάρτηση chars2unicode για να μετατρέψουμε το κλειδί \"HOUSE\" σε unicode μορφή.\n",
    "\n",
    "key = \"HOUSE\"\n",
    "key = chars2unicode(key)    #Unicode μορφή του κλειδιού\n",
    "                                                \n",
    "\n",
    "#Στη συνέχεια με την ίδια διαδικασία μετατρέπουμε το μήνυμα \"WEALLMAKEMISTAKESANDWEALLPAYAPRICE\" σε unicode μορφή.\n",
    "\n",
    "message = \"WEALLMAKEMISTAKESANDWEALLPAYAPRICE\"\n",
    "message = chars2unicode(message)\n",
    "\n",
    "    \n",
    "#Πραγματοποιώ κρυπτογράφηση RC4\n",
    "\n",
    "encrypted_msg = RC4_encryption(key,message)\n",
    "\n",
    "print(\"The encrypted message is:\\n\")\n",
    "for c in encrypted_msg:\n",
    "    print(\"%02X\" %c, end=\"\")      #Μετατροπή σε 16αδικό σύστημα\n",
    "    \n",
    "#Πραγματοποιώ αποκρυπτογράφηση RC4\n",
    "\n",
    "decrypted_msg = RC4_decryption(key,encrypted_msg)\n",
    "\n",
    "print(\"\\n\\nThe decrypted message is:\\n\")\n",
    "\n",
    "decrypted_msg = unicode2chars(decrypted_msg)\n",
    "print(decrypted_msg)"
   ]
  },
  {
   "cell_type": "code",
   "execution_count": null,
   "metadata": {},
   "outputs": [],
   "source": []
  }
 ],
 "metadata": {
  "kernelspec": {
   "display_name": "Python 3",
   "language": "python",
   "name": "python3"
  },
  "language_info": {
   "codemirror_mode": {
    "name": "ipython",
    "version": 3
   },
   "file_extension": ".py",
   "mimetype": "text/x-python",
   "name": "python",
   "nbconvert_exporter": "python",
   "pygments_lexer": "ipython3",
   "version": "3.7.1"
  }
 },
 "nbformat": 4,
 "nbformat_minor": 2
}
