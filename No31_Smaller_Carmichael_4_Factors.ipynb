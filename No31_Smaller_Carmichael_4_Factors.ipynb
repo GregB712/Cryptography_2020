{
 "cells": [
  {
   "cell_type": "code",
   "execution_count": 1,
   "metadata": {},
   "outputs": [],
   "source": [
    "\"\"\" Function that finds the prime factors of a number n with brute force \"\"\"\n",
    "def prime_factors(n):\n",
    "    i = 2\n",
    "    factors = []\n",
    "    while i * i <= n:\n",
    "        if n % i:\n",
    "            i += 1\n",
    "        else:\n",
    "            n //= i\n",
    "            factors.append(i)\n",
    "    if n > 1:\n",
    "        factors.append(n)\n",
    "    return factors"
   ]
  },
  {
   "cell_type": "code",
   "execution_count": 2,
   "metadata": {},
   "outputs": [],
   "source": [
    "from math import gcd\n",
    "\"\"\" Function to check whether n is a Carmichael number \"\"\"\n",
    "def isCarmichael(n):\n",
    "    for b in range(2, n):\n",
    "        if gcd(b, n) == 1: # If b is relatively prime to n\n",
    "            if pow(b, n-1, n) != 1: # If pow(b, n-1) % n is not 1, not Carmichael\n",
    "                return False\n",
    "    return True"
   ]
  },
  {
   "cell_type": "code",
   "execution_count": 3,
   "metadata": {},
   "outputs": [
    {
     "name": "stdout",
     "output_type": "stream",
     "text": [
      "41041\n",
      "[7, 11, 13, 41]\n",
      "0.29900336265563965\n"
     ]
    }
   ],
   "source": [
    "import time\n",
    "start = time.time()\n",
    "for i in range (1, 50000):\n",
    "    temp = prime_factors(i) # find the prime factors of the number\n",
    "    if len(temp)==4: \n",
    "        if isCarmichael(i): # check whether it is a Carmichael number \n",
    "            print(i)\n",
    "            print(temp)\n",
    "            break\n",
    "end = time.time()\n",
    "print(end - start)"
   ]
  }
 ],
 "metadata": {
  "kernelspec": {
   "display_name": "Python 3",
   "language": "python",
   "name": "python3"
  },
  "language_info": {
   "codemirror_mode": {
    "name": "ipython",
    "version": 3
   },
   "file_extension": ".py",
   "mimetype": "text/x-python",
   "name": "python",
   "nbconvert_exporter": "python",
   "pygments_lexer": "ipython3",
   "version": "3.7.1"
  }
 },
 "nbformat": 4,
 "nbformat_minor": 2
}
