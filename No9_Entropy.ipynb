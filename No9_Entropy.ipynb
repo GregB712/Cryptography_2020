{
 "cells": [
  {
   "cell_type": "markdown",
   "metadata": {},
   "source": []
  },
  {
   "cell_type": "code",
   "execution_count": 1,
   "metadata": {},
   "outputs": [],
   "source": [
    "import numpy as np\n",
    "import math"
   ]
  },
  {
   "cell_type": "code",
   "execution_count": 2,
   "metadata": {},
   "outputs": [],
   "source": [
    "def create_table(elements):\n",
    "    return np.reshape(elements, (int(math.sqrt(len(elements))),int(math.sqrt(len(elements)))))"
   ]
  },
  {
   "cell_type": "code",
   "execution_count": 3,
   "metadata": {},
   "outputs": [],
   "source": [
    "def entropy(table):\n",
    "    # Calculate pX and pY\n",
    "    pX = [sum(i) for i in zip(*table)] #add columns\n",
    "    pY =[sum(i) for i in table] #add rows\n",
    "    \n",
    "    # Calculate HX and HY\n",
    "    HX = -sum([x*math.log(x,2) for x in pX])\n",
    "    HY = -sum([x*math.log(x,2) for x in pY])\n",
    "    \n",
    "    return HX, HY, pX, pY"
   ]
  },
  {
   "cell_type": "code",
   "execution_count": 4,
   "metadata": {},
   "outputs": [],
   "source": [
    "def mutual_entropy(table):\n",
    "    temp = np.reshape(table, (len(table)**2)) # flatten table (easier to iterate)\n",
    "    temp = [i for i in temp if i != 0] # remove 0 from list (log(0) is undefined)\n",
    "    \n",
    "    HX_Y = -sum([x*math.log(x,2) for x in temp])\n",
    "    \n",
    "    return HX_Y"
   ]
  },
  {
   "cell_type": "code",
   "execution_count": 5,
   "metadata": {},
   "outputs": [],
   "source": [
    "def committed_entropy(table):\n",
    "    HX, HY, pX, pY = entropy(table)\n",
    "    \n",
    "    temp= []\n",
    "    for i in range(len(table)):\n",
    "        for j in range(len(table)):\n",
    "            temp.append(table[j][i] / pX[i])\n",
    "    \n",
    "    temp = [i if i != 0 else 1 for i in temp] # replace 0 from list (log(0) is undefined) \n",
    "                                              #log(1) = 0 so it will not affect our results\n",
    "    \n",
    "    pY_X = create_table(temp)\n",
    "    \n",
    "    HY_X_table = []\n",
    "    for row in pY_X:\n",
    "        HY_X_table.append(-sum([x*math.log(x,2) for x in row]))\n",
    "    \n",
    "    HY_X = sum([pX[i] * HY_X_table[i] for i in range(len(pX))])\n",
    "    \n",
    "    # Mutual Information: I(X,Y) = H(X) - H(X|Y) = H(Y) - H(Y|X)\n",
    "    HX_Y = -(HY - HY_X - HX)\n",
    "        \n",
    "    return HX_Y, HY_X"
   ]
  },
  {
   "cell_type": "code",
   "execution_count": 6,
   "metadata": {},
   "outputs": [],
   "source": [
    "def mutual_information(table):\n",
    "    HX, _, _, _ = entropy(table)\n",
    "    HX_Y, _ = committed_entropy(table)\n",
    "    \n",
    "    IX_Y = HX - HX_Y\n",
    "    \n",
    "    return IX_Y"
   ]
  },
  {
   "cell_type": "code",
   "execution_count": 7,
   "metadata": {},
   "outputs": [],
   "source": [
    "elements = [1/7,1/7,1/7,0,1/7,1/7,2/7,0,0]\n",
    "table = create_table(elements)"
   ]
  },
  {
   "cell_type": "code",
   "execution_count": 8,
   "metadata": {},
   "outputs": [
    {
     "data": {
      "text/plain": [
       "(1.5566567074628228,\n",
       " 1.5566567074628228,\n",
       " [0.42857142857142855, 0.2857142857142857, 0.2857142857142857],\n",
       " [0.42857142857142855, 0.2857142857142857, 0.2857142857142857])"
      ]
     },
     "metadata": {},
     "output_type": "display_data"
    }
   ],
   "source": [
    "display(entropy(table))"
   ]
  },
  {
   "cell_type": "code",
   "execution_count": 9,
   "metadata": {},
   "outputs": [
    {
     "data": {
      "text/plain": [
       "2.5216406363433186"
      ]
     },
     "metadata": {},
     "output_type": "display_data"
    }
   ],
   "source": [
    "display(mutual_entropy(table))"
   ]
  },
  {
   "cell_type": "code",
   "execution_count": 10,
   "metadata": {},
   "outputs": [
    {
     "data": {
      "text/plain": [
       "(0.9649839288804954, 0.9649839288804954)"
      ]
     },
     "metadata": {},
     "output_type": "display_data"
    }
   ],
   "source": [
    "display(committed_entropy(table))"
   ]
  },
  {
   "cell_type": "code",
   "execution_count": 11,
   "metadata": {},
   "outputs": [
    {
     "data": {
      "text/plain": [
       "0.5916727785823274"
      ]
     },
     "metadata": {},
     "output_type": "display_data"
    }
   ],
   "source": [
    "display(mutual_information(table))"
   ]
  },
  {
   "cell_type": "code",
   "execution_count": null,
   "metadata": {},
   "outputs": [],
   "source": []
  }
 ],
 "metadata": {
  "kernelspec": {
   "display_name": "Python 3",
   "language": "python",
   "name": "python3"
  },
  "language_info": {
   "codemirror_mode": {
    "name": "ipython",
    "version": 3
   },
   "file_extension": ".py",
   "mimetype": "text/x-python",
   "name": "python",
   "nbconvert_exporter": "python",
   "pygments_lexer": "ipython3",
   "version": "3.7.1"
  }
 },
 "nbformat": 4,
 "nbformat_minor": 2
}
