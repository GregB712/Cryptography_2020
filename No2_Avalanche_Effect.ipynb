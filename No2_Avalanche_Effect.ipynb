{
 "cells": [
  {
   "cell_type": "code",
   "execution_count": 84,
   "metadata": {},
   "outputs": [],
   "source": [
    "from Crypto.Cipher import AES\n",
    "import random\n",
    "import string\n",
    "from bitstring import BitArray\n",
    "\n",
    "# AES is based on XOR operation between key and plaintext.\n",
    "\n",
    "# In AES, we need the same length on both the message and the key.\n"
   ]
  },
  {
   "cell_type": "code",
   "execution_count": 85,
   "metadata": {},
   "outputs": [],
   "source": [
    "#Here i build the 1-bit-different messages\n",
    "\n",
    "MSG1=[]\n",
    "MSG2=[]\n",
    "\n",
    "for i in range (msgCount):\n",
    "    msg=\"\"\n",
    "    for j in range (15):\n",
    "        msg=msg+random.choice(string.ascii_letters)    \n",
    "        \n",
    "                         #all the letters are the same, I only change the last letter to have 1-bit difference\n",
    "    message1=msg+\"b\"     # b = 01100010, ends with 0\n",
    "    message2=msg+\"c\"     # c = 01100011, ends with 1, so we have one-bit difference\n",
    "    MSG1.append(message1)     \n",
    "    MSG2.append(message2)\n",
    "    #print(message1 + \"   \" + message2)        #for testing purposes, uncomment to print the 1-bit-different messages\n"
   ]
  },
  {
   "cell_type": "code",
   "execution_count": 86,
   "metadata": {},
   "outputs": [],
   "source": [
    "def AES_ECB(msgCount,key):\n",
    "\n",
    "    BitsChanged=[]   #Here I will store the number of bits that were different in the same position on every pair of ciphertexts\n",
    "\n",
    "    for i in range (msgCount):\n",
    "        ECB = AES.new(key, AES.MODE_ECB)\n",
    "        message1 = MSG1[i]\n",
    "        message2 = MSG2[i]\n",
    "\n",
    "        ciphertext1 = ECB.encrypt(message1)\n",
    "        ciphertext2 = ECB.encrypt(message2)\n",
    "\n",
    "        c1 = BitArray(ciphertext1)\n",
    "        c2 = BitArray(ciphertext2)\n",
    "        #print(c1.bin)     # for testing purposes, uncomment to see the 2 binary ciphertexts\n",
    "        #print(c2.bin)\n",
    "        #print(\"\\n\")\n",
    "\n",
    "        counter=0\n",
    "        for j in range (128):      # Here I count the different bits in the ciphertext\n",
    "            if c1.bin[j]!=c2.bin[j]:\n",
    "                counter=counter + 1 \n",
    "        BitsChanged.append(counter)\n",
    "\n",
    "\n",
    "    average=0         #Here i find the average bit difference\n",
    "    for i in BitsChanged:\n",
    "        average=average+i\n",
    "    average=average//msgCount\n",
    "\n",
    "    print(\"AES - ECB Mode\\n______________\\n\")\n",
    "    print(\"Different bits in every pair of ciphertexts:\\n\")    \n",
    "    print(BitsChanged)\n",
    "    print(\"\\nAverage bit difference:\\n\")  \n",
    "    print(str(average) + \" bits, \" + str(\"{:.2f}\".format(average/128)) + \"% chance of bit-difference\")\n",
    "    print(\"\\nSince it's ~50%, we can safely assume that the AES.ECB has a good Avalance Effect\\n\")\n"
   ]
  },
  {
   "cell_type": "code",
   "execution_count": 87,
   "metadata": {},
   "outputs": [],
   "source": [
    "def AES_CBC(msgCount,key,IV):\n",
    "\n",
    "    BitsChanged=[]   #Here I will store the number of bits that were different in the same position on every pair of ciphertexts\n",
    "\n",
    "    for i in range (msgCount):\n",
    "        CBC = AES.new(key, AES.MODE_CBC, IV)\n",
    "        message1 = MSG1[i]\n",
    "        message2 = MSG2[i]\n",
    "\n",
    "        ciphertext1 = CBC.encrypt(message1)\n",
    "        ciphertext2 = CBC.encrypt(message2)\n",
    "\n",
    "        c1 = BitArray(ciphertext1)\n",
    "        c2 = BitArray(ciphertext2)\n",
    "        #print(c1.bin)     # for testing purposes, uncomment to see the 2 binary ciphertexts\n",
    "        #print(c2.bin)\n",
    "        #print(\"\\n\")\n",
    "\n",
    "        counter=0\n",
    "        for j in range (128):      # Here I count the different bits in the ciphertext\n",
    "            if c1.bin[j]!=c2.bin[j]:\n",
    "                counter=counter + 1 \n",
    "        BitsChanged.append(counter)\n",
    "\n",
    "\n",
    "    average=0         #Here i find the average bit difference\n",
    "    for i in BitsChanged:\n",
    "        average=average+i\n",
    "    average=average//msgCount\n",
    "\n",
    "    print(\"AES - CBC Mode\\n______________\\n\")\n",
    "    print(\"Different bits in every pair of ciphertexts:\\n\")    \n",
    "    print(BitsChanged)\n",
    "    print(\"\\nAverage bit difference:\\n\")  \n",
    "    print(str(average) + \" bits, \" + str(\"{:.2f}\".format(average/128)) + \"% chance of bit-difference\")\n",
    "    print(\"\\nSince it's ~50%, we can safely assume that the AES.CBC has a good Avalance Effect\\n\")\n"
   ]
  },
  {
   "cell_type": "code",
   "execution_count": null,
   "metadata": {},
   "outputs": [],
   "source": []
  },
  {
   "cell_type": "code",
   "execution_count": 88,
   "metadata": {},
   "outputs": [
    {
     "name": "stdout",
     "output_type": "stream",
     "text": [
      "AES - ECB Mode\n",
      "______________\n",
      "\n",
      "Different bits in every pair of ciphertexts:\n",
      "\n",
      "[67, 70, 63, 60, 64, 64, 70, 54, 65, 56, 64, 61, 67, 52, 59, 74, 65, 70, 65, 60, 56, 53, 63, 64, 77, 69, 68, 68, 56, 69, 68, 63, 59, 71, 64]\n",
      "\n",
      "Average bit difference:\n",
      "\n",
      "63 bits, 0.49% chance of bit-difference\n",
      "\n",
      "Since it's ~50%, we can safely assume that the AES.ECB has a good Avalance Effect\n",
      "\n",
      "----------------------------------------------------------------------------------------------\n",
      "\n",
      "AES - CBC Mode\n",
      "______________\n",
      "\n",
      "Different bits in every pair of ciphertexts:\n",
      "\n",
      "[72, 69, 74, 66, 51, 52, 79, 48, 67, 57, 54, 70, 67, 55, 59, 59, 69, 61, 73, 58, 61, 68, 60, 68, 57, 64, 68, 59, 72, 71, 62, 55, 64, 68, 66]\n",
      "\n",
      "Average bit difference:\n",
      "\n",
      "63 bits, 0.49% chance of bit-difference\n",
      "\n",
      "Since it's ~50%, we can safely assume that the AES.CBC has a good Avalance Effect\n",
      "\n"
     ]
    }
   ],
   "source": [
    "msgCount = 35     # Number of messages pairs\n",
    "key = 'The 16 digit key'\n",
    "IV = 'This is my 16 IV'\n",
    "\n",
    "\n",
    "AES_ECB(msgCount,key)\n",
    "print(\"----------------------------------------------------------------------------------------------\\n\")\n",
    "AES_CBC(msgCount,key,IV)"
   ]
  },
  {
   "cell_type": "code",
   "execution_count": null,
   "metadata": {},
   "outputs": [],
   "source": []
  },
  {
   "cell_type": "code",
   "execution_count": null,
   "metadata": {},
   "outputs": [],
   "source": []
  }
 ],
 "metadata": {
  "kernelspec": {
   "display_name": "Python 3",
   "language": "python",
   "name": "python3"
  },
  "language_info": {
   "codemirror_mode": {
    "name": "ipython",
    "version": 3
   },
   "file_extension": ".py",
   "mimetype": "text/x-python",
   "name": "python",
   "nbconvert_exporter": "python",
   "pygments_lexer": "ipython3",
   "version": "3.7.1"
  }
 },
 "nbformat": 4,
 "nbformat_minor": 2
}
