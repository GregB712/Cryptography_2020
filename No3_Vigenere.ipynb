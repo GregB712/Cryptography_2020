{
 "cells": [
  {
   "cell_type": "markdown",
   "metadata": {},
   "source": [
    "# Διαδικασία: \n",
    "\n",
    "Αρχικά, θα δοκιμάσουμε να υλοποιήσουμε \"Kasiski Attack\" για να μπορέσουμε να βρούμε (κατά πάσα πιθανότητα) το μήκος \n",
    "keylength του κλειδιού, βρίσκοντας επαναλαμβανόμενα patterns στο encrypted μήνυμα.\n",
    "\n",
    "Έπειτα, μόλις βρούμε το μήκος του κλειδιού πρέπει να βρούμε την λέξη, πιθανόν με το \"Τεστ του Friedman\" και τη χρήση\n",
    "του δείκτη σύμπτωσης, χωρίζοντας το encrypted μήνυμα σε keylength στήλες. \n",
    "\n",
    "Τέλος, βρίσκουμε εύκολα αφού έχουμε το κλειδί χρησιμοποιώντας την μέθοδο του %26 για να βρούμε το αρχικό μήνυμα.\n"
   ]
  },
  {
   "cell_type": "code",
   "execution_count": null,
   "metadata": {},
   "outputs": [],
   "source": [
    "# Imports\n",
    "import pandas as pd\n",
    "import math\n",
    "from functools import reduce\n",
    "import operator"
   ]
  },
  {
   "cell_type": "code",
   "execution_count": null,
   "metadata": {},
   "outputs": [],
   "source": [
    "with open('vigenere.txt', 'r', encoding='utf-8-sig') as file:\n",
    "    coded_msg = file.read().replace('\\n', '')\n",
    "display(coded_msg)"
   ]
  },
  {
   "cell_type": "code",
   "execution_count": null,
   "metadata": {},
   "outputs": [],
   "source": [
    "len(coded_msg)"
   ]
  },
  {
   "cell_type": "code",
   "execution_count": null,
   "metadata": {},
   "outputs": [],
   "source": [
    "def kasiski_attack(text, n):\n",
    "    i = 0\n",
    "    count = {}\n",
    "    \n",
    "    for i in range(0, len(text)-(n-1)):\n",
    "        #s = text[i] + text[i+1] + text[i+2] + text[i+3]\n",
    "        s = text[i]\n",
    "        for j in range(i+1, i+n):\n",
    "            if j < len(text):\n",
    "                s = s + text[j]\n",
    "        if s in count:\n",
    "            count[s] += 1\n",
    "        else:\n",
    "            count[s] = 1\n",
    "        \n",
    "    return count"
   ]
  },
  {
   "cell_type": "code",
   "execution_count": null,
   "metadata": {},
   "outputs": [],
   "source": [
    "columns = ['Length','Substring', 'Frequency']\n",
    "df = pd.DataFrame(columns = columns)"
   ]
  },
  {
   "cell_type": "code",
   "execution_count": null,
   "metadata": {},
   "outputs": [],
   "source": [
    "for q in range(4,10):\n",
    "    count = kasiski_attack(coded_msg, q)\n",
    "    for key in count:\n",
    "        if count[key] > 2:\n",
    "            df = df.append({'Length': q, 'Substring': key, 'Frequency': count[key]}, ignore_index=True)\n",
    "            #print (\"Length:\", q, \" substring:\", key, \" freq:\", count[key])"
   ]
  },
  {
   "cell_type": "code",
   "execution_count": null,
   "metadata": {},
   "outputs": [],
   "source": [
    "la = [[] for _ in range(52)]\n",
    "for index, row in df.iterrows():\n",
    "    count_stars = 0\n",
    "    count = 0\n",
    "    start = False\n",
    "    for char in coded_msg.replace(row['Substring'], \"*\"):\n",
    "        if char == \"*\":\n",
    "            if count != 0:\n",
    "                la[index].append(count-1)\n",
    "            count_stars = count_stars + 1\n",
    "            start = True\n",
    "            count=0\n",
    "        if count_stars == row['Frequency']:\n",
    "            break\n",
    "        if start == True:\n",
    "            count = count + 1"
   ]
  },
  {
   "cell_type": "code",
   "execution_count": null,
   "metadata": {
    "scrolled": true
   },
   "outputs": [],
   "source": [
    "df['Distances'] = la "
   ]
  },
  {
   "cell_type": "code",
   "execution_count": null,
   "metadata": {
    "scrolled": true
   },
   "outputs": [],
   "source": [
    "def find_gcd(list):\n",
    "    x = reduce(math.gcd, list)\n",
    "    return x"
   ]
  },
  {
   "cell_type": "code",
   "execution_count": null,
   "metadata": {},
   "outputs": [],
   "source": [
    "gcd_list = []\n",
    "for index, row in df.iterrows():\n",
    "    gcd_list.append(find_gcd(row['Distances']))"
   ]
  },
  {
   "cell_type": "code",
   "execution_count": null,
   "metadata": {},
   "outputs": [],
   "source": [
    "df['GCD'] = gcd_list "
   ]
  },
  {
   "cell_type": "code",
   "execution_count": null,
   "metadata": {
    "scrolled": true
   },
   "outputs": [],
   "source": [
    "display(df)"
   ]
  },
  {
   "cell_type": "code",
   "execution_count": null,
   "metadata": {},
   "outputs": [],
   "source": [
    "indexNames = df[df['GCD'] < 3 ].index\n",
    "\n",
    "df.drop(indexNames , inplace=True)\n",
    "df.reset_index()"
   ]
  },
  {
   "cell_type": "code",
   "execution_count": null,
   "metadata": {},
   "outputs": [],
   "source": [
    "n=7\n",
    "#https://stackoverflow.com/questions/22571259/split-a-string-into-n-equal-parts\n",
    "parts = [coded_msg[i:i+n] for i in range(0, len(coded_msg), n)]"
   ]
  },
  {
   "cell_type": "code",
   "execution_count": null,
   "metadata": {},
   "outputs": [],
   "source": [
    "display(parts)"
   ]
  },
  {
   "cell_type": "code",
   "execution_count": null,
   "metadata": {},
   "outputs": [],
   "source": [
    "mapping = [list(word) for word in parts]"
   ]
  },
  {
   "cell_type": "code",
   "execution_count": null,
   "metadata": {},
   "outputs": [],
   "source": [
    "display(mapping)"
   ]
  },
  {
   "cell_type": "code",
   "execution_count": null,
   "metadata": {},
   "outputs": [],
   "source": [
    "letters = []\n",
    "for i in range(0,len(y)):\n",
    "    letters.append(y[i][0])\n",
    "text = ''.join(map(str, letters)) \n",
    "display(text)"
   ]
  },
  {
   "cell_type": "code",
   "execution_count": null,
   "metadata": {},
   "outputs": [],
   "source": [
    "df_list = []\n",
    "columns = ['Letter', 'Frequency']\n",
    "df_letters = pd.DataFrame(columns = columns)\n",
    "for j in range(0,n):\n",
    "    letters = []\n",
    "    for i in range(0,len(y)):\n",
    "        letters.append(y[i][j])\n",
    "    text = ''.join(map(str, letters))\n",
    "    print(str(j))\n",
    "    print(text)\n",
    "    count = kasiski_attack(text, 1)\n",
    "    #print(count)\n",
    "    df_list.append(count)"
   ]
  },
  {
   "cell_type": "code",
   "execution_count": null,
   "metadata": {},
   "outputs": [],
   "source": [
    "for i in range(0, n):\n",
    "    print(i)\n",
    "    print(df_list[i])"
   ]
  },
  {
   "cell_type": "code",
   "execution_count": null,
   "metadata": {},
   "outputs": [],
   "source": [
    "for i in range(0, n):\n",
    "    temp = max(df_list[i].items(), key=operator.itemgetter(1))[0]\n",
    "    print(temp + str(': ')+str(df_list[i][temp]))"
   ]
  },
  {
   "cell_type": "code",
   "execution_count": null,
   "metadata": {},
   "outputs": [],
   "source": [
    "data0 = []\n",
    "data1 = []\n",
    "data2 = []\n",
    "data3 = []\n",
    "data4 = []\n",
    "data5 = []\n",
    "data6 = []"
   ]
  },
  {
   "cell_type": "code",
   "execution_count": null,
   "metadata": {},
   "outputs": [],
   "source": [
    "p=0\n",
    "sortednames=sorted(df_list[p].keys(), key=lambda x:x.lower())\n",
    "for i in sortednames:\n",
    "    values=df_list[p][i]\n",
    "    print(i + \": \" +str(values))\n",
    "    data0.append(values)"
   ]
  },
  {
   "cell_type": "code",
   "execution_count": null,
   "metadata": {},
   "outputs": [],
   "source": [
    "p=1\n",
    "sortednames=sorted(df_list[p].keys(), key=lambda x:x.lower())\n",
    "for i in sortednames:\n",
    "    values=df_list[p][i]\n",
    "    print(i + \": \" +str(values))\n",
    "    data1.append(values)"
   ]
  },
  {
   "cell_type": "code",
   "execution_count": null,
   "metadata": {},
   "outputs": [],
   "source": [
    "p=2\n",
    "sortednames=sorted(df_list[p].keys(), key=lambda x:x.lower())\n",
    "for i in sortednames:\n",
    "    values=df_list[p][i]\n",
    "    print(i + \": \" +str(values))\n",
    "    data2.append(values)"
   ]
  },
  {
   "cell_type": "code",
   "execution_count": null,
   "metadata": {},
   "outputs": [],
   "source": [
    "p=3\n",
    "sortednames=sorted(df_list[p].keys(), key=lambda x:x.lower())\n",
    "for i in sortednames:\n",
    "    values=df_list[p][i]\n",
    "    print(i + \": \" +str(values))\n",
    "    data3.append(values)"
   ]
  },
  {
   "cell_type": "code",
   "execution_count": null,
   "metadata": {},
   "outputs": [],
   "source": [
    "p=4\n",
    "sortednames=sorted(df_list[p].keys(), key=lambda x:x.lower())\n",
    "for i in sortednames:\n",
    "    values=df_list[p][i]\n",
    "    print(i + \": \" +str(values))\n",
    "    data4.append(values)"
   ]
  },
  {
   "cell_type": "code",
   "execution_count": null,
   "metadata": {},
   "outputs": [],
   "source": [
    "p=5\n",
    "sortednames=sorted(df_list[p].keys(), key=lambda x:x.lower())\n",
    "for i in sortednames:\n",
    "    values=df_list[p][i]\n",
    "    print(i + \": \" +str(values))\n",
    "    data5.append(values)"
   ]
  },
  {
   "cell_type": "code",
   "execution_count": null,
   "metadata": {},
   "outputs": [],
   "source": [
    "p=6\n",
    "sortednames=sorted(df_list[p].keys(), key=lambda x:x.lower())\n",
    "for i in sortednames:\n",
    "    values=df_list[p][i]\n",
    "    print(i + \": \" +str(values))\n",
    "    data6.append(values)"
   ]
  },
  {
   "cell_type": "code",
   "execution_count": null,
   "metadata": {},
   "outputs": [],
   "source": [
    "data = {\n",
    "    \"A\": 8.12,\n",
    "    \"B\": 1.49,\n",
    "    \"C\": 2.71,\n",
    "    \"D\": 4.32,\n",
    "    \"E\": 12.02,\n",
    "    \"F\": 2.3,\n",
    "    \"G\": 2.03,\n",
    "    \"H\": 5.92,\n",
    "    \"I\": 7.31,\n",
    "    \"J\": 0.1,\n",
    "    \"K\": 0.69,\n",
    "    \"L\": 3.92,\n",
    "    \"M\": 2.61,\n",
    "    \"N\": 6.95,\n",
    "    \"O\": 7.68,\n",
    "    \"P\": 1.82,\n",
    "    \"Q\": 0.11,\n",
    "    \"R\": 6.02,\n",
    "    \"S\": 6.28,\n",
    "    \"T\": 9.1,\n",
    "    \"U\": 2.88,\n",
    "    \"V\": 1.11,\n",
    "    \"W\": 2.09,\n",
    "    \"X\": 0.17,\n",
    "    \"Y\": 2.11,\n",
    "    \"Z\": 0.07\n",
    "\n",
    "}"
   ]
  },
  {
   "cell_type": "code",
   "execution_count": null,
   "metadata": {},
   "outputs": [],
   "source": [
    "display(data)"
   ]
  },
  {
   "cell_type": "code",
   "execution_count": null,
   "metadata": {},
   "outputs": [],
   "source": [
    "import string\n",
    "column = list(string.ascii_uppercase)\n",
    "new = pd.DataFrame(columns = column)"
   ]
  },
  {
   "cell_type": "code",
   "execution_count": null,
   "metadata": {},
   "outputs": [],
   "source": [
    "newdf=pd.DataFrame(fulldata,columns=column)"
   ]
  },
  {
   "cell_type": "code",
   "execution_count": null,
   "metadata": {},
   "outputs": [],
   "source": [
    "fulldata = []\n",
    "fulldata.append(data)\n",
    "fulldata.append(data0)\n",
    "fulldata.append(data1)\n",
    "fulldata.append(data2)\n",
    "fulldata.append(data3)\n",
    "fulldata.append(data4)\n",
    "fulldata.append(data5)\n",
    "fulldata.append(data6)"
   ]
  },
  {
   "cell_type": "code",
   "execution_count": null,
   "metadata": {},
   "outputs": [],
   "source": [
    "data = {8.12, 1.49, 2.71, 4.32, 12.02, 2.3, 2.03, 5.92, 7.31, 0.1,\n",
    " 0.69,\n",
    " 3.92,\n",
    " 2.61,\n",
    " 6.95,\n",
    " 7.68,\n",
    " 1.82,\n",
    " 0.11,\n",
    " 6.02,\n",
    " 6.28,\n",
    " 9.1,\n",
    " 2.88,\n",
    " 1.11,\n",
    " 2.09,\n",
    " 0.17,\n",
    " 2.11,\n",
    " 0.07\n",
    "}"
   ]
  },
  {
   "cell_type": "code",
   "execution_count": null,
   "metadata": {},
   "outputs": [],
   "source": []
  }
 ],
 "metadata": {
  "kernelspec": {
   "display_name": "Python 3",
   "language": "python",
   "name": "python3"
  },
  "language_info": {
   "codemirror_mode": {
    "name": "ipython",
    "version": 3
   },
   "file_extension": ".py",
   "mimetype": "text/x-python",
   "name": "python",
   "nbconvert_exporter": "python",
   "pygments_lexer": "ipython3",
   "version": "3.7.1"
  }
 },
 "nbformat": 4,
 "nbformat_minor": 2
}
