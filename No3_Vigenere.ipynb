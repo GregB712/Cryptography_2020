{
 "cells": [
  {
   "cell_type": "code",
   "execution_count": 14,
   "metadata": {},
   "outputs": [],
   "source": [
    "# Αρχικά, θα δοκιμάσουμε να υλοποιήσουμε \"Kasiski Attack\" για να μπορέσουμε να βρούμε (κατά πάσα πιθαν΄ότητα) το μήκος \n",
    "# keylength του κλειδιού, βρίσκοντας επαναλαμβανόμενα patterns στο encrypted μήνυμα.\n",
    "\n",
    "# Έπειτα, μόλις βρούμε το μ΄ήκος του κλειδιού πρέπει να βρούμε την λέξη, πιθανόν με το \"Τεστ του Friedman\" και τη χρήση\n",
    "# του δείκτη σύμπτωσης, χωρίζοντας το encrypted μήνυμα σε keylength στήλες. \n",
    "\n",
    "# Τέλος, βρίσκουμε εύκολα αφού έχουμε το κλειδί χρησιμοποιώντας την μέθοδο του %26 για να βρούμε το αρχικό μήνυμα.\n"
   ]
  },
  {
   "cell_type": "code",
   "execution_count": null,
   "metadata": {},
   "outputs": [],
   "source": []
  }
 ],
 "metadata": {
  "kernelspec": {
   "display_name": "Python 3",
   "language": "python",
   "name": "python3"
  },
  "language_info": {
   "codemirror_mode": {
    "name": "ipython",
    "version": 3
   },
   "file_extension": ".py",
   "mimetype": "text/x-python",
   "name": "python",
   "nbconvert_exporter": "python",
   "pygments_lexer": "ipython3",
   "version": "3.7.1"
  }
 },
 "nbformat": 4,
 "nbformat_minor": 2
}
